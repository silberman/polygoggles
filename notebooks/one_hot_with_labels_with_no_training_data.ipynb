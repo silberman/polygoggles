{
 "cells": [
  {
   "cell_type": "markdown",
   "metadata": {},
   "source": [
    "See what happens if we give a 1-hot array of ~10 labels, but with only 1 ever being present.\n",
    "ie, if we give it training data that only includes pentagons."
   ]
  },
  {
   "cell_type": "code",
   "execution_count": 115,
   "metadata": {
    "collapsed": false
   },
   "outputs": [
    {
     "name": "stdout",
     "output_type": "stream",
     "text": [
      "Expected accuracy if it only guesses a label it has been trained on:\n",
      "\n",
      "train:[3, 3]   test:[3, 3]    => 1.0\n",
      "train:[3, 3]   test:[3, 4]    => 0.5\n",
      "train:[3, 3]   test:[3, 5]    => 0.3333333333333333\n",
      "train:[3, 3]   test:[3, 6]    => 0.25\n",
      "train:[3, 3]   test:[3, 9]    => 0.14285714285714285\n",
      "\n",
      "train:[3, 4]   test:[3, 3]    => 1.0\n",
      "train:[3, 4]   test:[3, 4]    => 1.0\n",
      "train:[3, 4]   test:[3, 5]    => 0.6666666666666666\n",
      "train:[3, 4]   test:[3, 6]    => 0.5\n",
      "train:[3, 4]   test:[3, 9]    => 0.2857142857142857\n",
      "\n",
      "train:[3, 5]   test:[3, 3]    => 1.0\n",
      "train:[3, 5]   test:[3, 4]    => 1.0\n",
      "train:[3, 5]   test:[3, 5]    => 1.0\n",
      "train:[3, 5]   test:[3, 6]    => 0.75\n",
      "train:[3, 5]   test:[3, 9]    => 0.42857142857142855\n",
      "\n",
      "train:[3, 9]   test:[3, 3]    => 1.0\n",
      "train:[3, 9]   test:[3, 4]    => 1.0\n",
      "train:[3, 9]   test:[3, 5]    => 1.0\n",
      "train:[3, 9]   test:[3, 6]    => 1.0\n",
      "train:[3, 9]   test:[3, 9]    => 1.0\n"
     ]
    }
   ],
   "source": [
    "def expected_accuracy_if_only_guesses_trained_labels(min_train, max_train, min_test, max_test):\n",
    "    different_answers = max_test - min_test + 1\n",
    "    answers_given = max_train - min_train + 1\n",
    "    # note if there are more labels trained on than will be tested on, this model says 100% accuracy,\n",
    "    # where via the simple math it would be over 100%\n",
    "    # This appears to be true, ie teaching someone about heptagons doesn't hurt their ability to label triangles\n",
    "    return min(1.0, answers_given / different_answers)\n",
    "\n",
    "print(\"Expected accuracy if it only guesses a label it has been trained on:\")\n",
    "for min_train in [3]:\n",
    "    for max_train in [3, 4, 5, 9]:\n",
    "        print()\n",
    "        for min_test in [3]:\n",
    "            for max_test in [3, 4, 5, 6, 9]:\n",
    "                acccuracy = expected_accuracy_if_only_guesses_trained_labels(min_train, max_train, min_test, max_test)\n",
    "                print(\"train:[%s, %s]   test:[%s, %s]    => %s\" % (min_train, max_train, min_test, max_test, acccuracy))\n",
    "                                                            \n",
    "\n"
   ]
  },
  {
   "cell_type": "markdown",
   "metadata": {},
   "source": [
    "## Some seen results\n",
    "\n",
    "#### For 28x28 images, with test labels ranging from [3, 9]:\n",
    "All these results based on 10,000 training, 1,000 test images, with 1000 training steps in batches of 100\n",
    "\n",
    "- TRAINING_EDGE_MIN_MAX = [3, 9] => 1.0 accuracy\n",
    "- TRAINING_EDGE_MIN_MAX = [5, 5] => ~0.15 accuracy\n",
    "- TRAINING_EDGE_MIN_MAX = [6, 6] => ~0.14 accuracy\n",
    "\n",
    "\n",
    "- TRAINING_EDGE_MIN_MAX = [5, 6] => ~0.30 accuracy\n",
    "\n",
    "#### For 28x28 images, with test labels ranging from [3, 5]:\n",
    "- TRAINING_EDGE_MIN_MAX = [3, 9] => 1.0 # ie, learning septagons doesn't hurt ability to label a triangle\n",
    "- TRAINING_EDGE_MIN_MAX = [3, 5] => 1.0 # as expected\n",
    "- TRAINING_EDGE_MIN_MAX = [5, 5] => \n",
    "- TRAINING_EDGE_MIN_MAX = [6, 6] => \n",
    "\n",
    "\n",
    "- TRAINING_EDGE_MIN_MAX = [5, 6] => \n"
   ]
  },
  {
   "cell_type": "code",
   "execution_count": 66,
   "metadata": {
    "collapsed": true
   },
   "outputs": [],
   "source": [
    "from polygoggles.make_polygon_pngs import make_collection\n",
    "from polygoggles.simple_softmax import run_simple_softmax_on_collection"
   ]
  },
  {
   "cell_type": "code",
   "execution_count": 99,
   "metadata": {
    "collapsed": true
   },
   "outputs": [],
   "source": [
    "IMAGE_WIDTH = 28\n",
    "IMAGE_HEIGHT = 28\n",
    "\n",
    "NUM_TRAINING_IMAGES = 10000\n",
    "NUM_TEST_IMAGES = 1000"
   ]
  },
  {
   "cell_type": "code",
   "execution_count": 116,
   "metadata": {
    "collapsed": false
   },
   "outputs": [
    {
     "name": "stdout",
     "output_type": "stream",
     "text": [
      "Making 10000 training images...\n",
      "Making 1000 testing images...\n",
      "Wrote collection to: /Users/dansilberman/polygoggles/images/coll_28_28_1457740328\n"
     ]
    }
   ],
   "source": [
    "MIN_TEST_EDGES = 3\n",
    "MAX_TEST_EDGES = 9\n",
    "TRAINING_EDGE_MIN_MAX = [5, 5]\n",
    "\n",
    "# We need to first make \n",
    "collection_dir = make_collection(IMAGE_WIDTH, IMAGE_HEIGHT, NUM_TRAINING_IMAGES, NUM_TEST_IMAGES,\n",
    "                                 allow_rotation=True, min_edges=MIN_TEST_EDGES, max_edges=MAX_TEST_EDGES,\n",
    "                                 training_num_edges_limited_to_range=TRAINING_EDGE_MIN_MAX)"
   ]
  },
  {
   "cell_type": "code",
   "execution_count": 118,
   "metadata": {
    "collapsed": false
   },
   "outputs": [
    {
     "name": "stdout",
     "output_type": "stream",
     "text": [
      "Extracting 10000 images and labels from /Users/dansilberman/polygoggles/images/coll_28_28_1457740328/train/...\n",
      "Extracting 1000 images and labels from /Users/dansilberman/polygoggles/images/coll_28_28_1457740328/test/...\n",
      "num train examples: 10000\n",
      "num test examples: 1000\n",
      "Shape of training image data: (10000, 784)\n",
      "Shape of training label data: (10000, 10)\n",
      "Original image width: 28\n",
      "Original image height: 28\n",
      "Accuracy: 0.168\n",
      "0.168 accuracy seen\n",
      "0.143 accuracy projected by model\n"
     ]
    }
   ],
   "source": [
    "accuracy = run_simple_softmax_on_collection(collection_dir, \n",
    "                                           num_training_steps=1000,\n",
    "                                           training_batch_size=100)\n",
    "\n",
    "expected_accuracy = expected_accuracy_if_only_guesses_trained_labels(TRAINING_EDGE_MIN_MAX[0], \n",
    "                                                                     TRAINING_EDGE_MIN_MAX[1], \n",
    "                                                                     MIN_TEST_EDGES,\n",
    "                                                                     MAX_TEST_EDGES)\n",
    "print(\"%.3f accuracy seen\" % accuracy)\n",
    "print(\"%.3f accuracy projected by model\" % expected_accuracy)"
   ]
  },
  {
   "cell_type": "code",
   "execution_count": null,
   "metadata": {
    "collapsed": true
   },
   "outputs": [],
   "source": []
  }
 ],
 "metadata": {
  "kernelspec": {
   "display_name": "Python 3",
   "language": "python",
   "name": "python3"
  },
  "language_info": {
   "codemirror_mode": {
    "name": "ipython",
    "version": 3
   },
   "file_extension": ".py",
   "mimetype": "text/x-python",
   "name": "python",
   "nbconvert_exporter": "python",
   "pygments_lexer": "ipython3",
   "version": "3.5.1"
  }
 },
 "nbformat": 4,
 "nbformat_minor": 0
}
